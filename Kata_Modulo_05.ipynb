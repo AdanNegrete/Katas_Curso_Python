{
 "cells": [
  {
   "cell_type": "markdown",
   "metadata": {},
   "source": [
    "# Ejercicio1 - Utilizar operadores aritméticos\n",
    "\n",
    "Exploremos cómo podemos crear un programa que pueda calcular la distancia entre dos planetas. Comenzaremos usando dos distancias de planetas: Tierra (149.597.870 km) y Júpiter (778.547.200 km)."
   ]
  },
  {
   "cell_type": "code",
   "execution_count": 3,
   "metadata": {},
   "outputs": [
    {
     "name": "stdout",
     "output_type": "stream",
     "text": [
      "Distancia en km: 628949330 \n",
      "Distancia en millas: 390577534\n"
     ]
    }
   ],
   "source": [
    "dist_planeta1=149597870\n",
    "dist_planeta2=778547200\n",
    "\n",
    "distancia_km=dist_planeta2-dist_planeta1\n",
    "distancia_mi=distancia_km*0.621\n",
    "\n",
    "print(f\"Distancia en km: {distancia_km} \\nDistancia en millas: {round(distancia_mi)}\")"
   ]
  },
  {
   "cell_type": "markdown",
   "metadata": {},
   "source": [
    "# Ejercicio 2: convierte cadenas en números y usa valores absolutos\n",
    "\n",
    "Crear una aplicación para trabajar con números y entrada de usuario"
   ]
  },
  {
   "cell_type": "code",
   "execution_count": 7,
   "metadata": {},
   "outputs": [
    {
     "name": "stdout",
     "output_type": "stream",
     "text": [
      "Distancia en km: 4437200000 \n",
      "Distancia en millas: 2755501200\n"
     ]
    }
   ],
   "source": [
    "#Leer los valores\n",
    "dist_planeta1=input(\"Ingresa la distancia al Sol del planeta 1: \")\n",
    "dist_planeta2=input(\"Ingresa la distancia al Sol del planeta 2: \")\n",
    "\n",
    "#Convirtiendo a número\n",
    "dist_planeta1=int(dist_planeta1)\n",
    "dist_planeta2=int(dist_planeta2)\n",
    "\n",
    "#Realizando operaciones\n",
    "distancia_km=abs(dist_planeta1-dist_planeta2)\n",
    "distancia_mi=distancia_km*0.621\n",
    "\n",
    "print(f\"Distancia en km: {distancia_km} \\nDistancia en millas: {round(distancia_mi)}\")"
   ]
  }
 ],
 "metadata": {
  "interpreter": {
   "hash": "3b22382fa247ca67c1899e6820d327c3c9c88c13ae6d1e8a777ddbd3dce2a0d1"
  },
  "kernelspec": {
   "display_name": "Python 3.8.10 64-bit",
   "language": "python",
   "name": "python3"
  },
  "language_info": {
   "codemirror_mode": {
    "name": "ipython",
    "version": 3
   },
   "file_extension": ".py",
   "mimetype": "text/x-python",
   "name": "python",
   "nbconvert_exporter": "python",
   "pygments_lexer": "ipython3",
   "version": "3.8.10"
  },
  "orig_nbformat": 4
 },
 "nbformat": 4,
 "nbformat_minor": 2
}
