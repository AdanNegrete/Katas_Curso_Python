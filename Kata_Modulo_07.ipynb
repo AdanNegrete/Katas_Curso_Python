{
 "cells": [
  {
   "cell_type": "markdown",
   "metadata": {},
   "source": [
    "# Ejercicio 1: Creación de un bucle \"while\"\n",
    "\n",
    "## Ejercicio 1: Uso de ciclos while en Python\n",
    "\n",
    "En este ejercicio, estás creando una aplicación que solicita a un usuario que ingrese una lista de planetas."
   ]
  },
  {
   "cell_type": "code",
   "execution_count": 3,
   "metadata": {},
   "outputs": [
    {
     "name": "stdout",
     "output_type": "stream",
     "text": [
      "El planeta Mercurio se añadió a la lista\n",
      "El planeta Venus se añadió a la lista\n",
      "El planeta Tierra se añadió a la lista\n"
     ]
    }
   ],
   "source": [
    "# Creación de variables\n",
    "new_planet=''\n",
    "planets=[]\n",
    "\n",
    "# Creación de Ciclo\n",
    "while(new_planet.lower() != 'done'):\n",
    "    if new_planet:\n",
    "        planets.append(new_planet)\n",
    "        print(f'El planeta {new_planet} se añadió a la lista')\n",
    "    new_planet=input(\"Ingresa el nombre del planeta: \")"
   ]
  },
  {
   "cell_type": "markdown",
   "metadata": {},
   "source": [
    "## Ejercicio 2: Creación de un ciclo \"for\"\n",
    "\n",
    "Ejercicio: - Ciclo para una lista\n",
    "\n",
    "En este ejercicio, completarás la aplicación escribiendo código que muestre los nombres de esos planetas."
   ]
  },
  {
   "cell_type": "code",
   "execution_count": 4,
   "metadata": {},
   "outputs": [
    {
     "name": "stdout",
     "output_type": "stream",
     "text": [
      "El planeta Mercurio está en esta lista...\n",
      "El planeta Venus está en esta lista...\n",
      "El planeta Tierra está en esta lista...\n"
     ]
    }
   ],
   "source": [
    "for planet in planets:\n",
    "    print(f\"El planeta {planet} está en esta lista...\")"
   ]
  }
 ],
 "metadata": {
  "interpreter": {
   "hash": "3b22382fa247ca67c1899e6820d327c3c9c88c13ae6d1e8a777ddbd3dce2a0d1"
  },
  "kernelspec": {
   "display_name": "Python 3.8.10 64-bit",
   "language": "python",
   "name": "python3"
  },
  "language_info": {
   "codemirror_mode": {
    "name": "ipython",
    "version": 3
   },
   "file_extension": ".py",
   "mimetype": "text/x-python",
   "name": "python",
   "nbconvert_exporter": "python",
   "pygments_lexer": "ipython3",
   "version": "3.8.10"
  },
  "orig_nbformat": 4
 },
 "nbformat": 4,
 "nbformat_minor": 2
}
