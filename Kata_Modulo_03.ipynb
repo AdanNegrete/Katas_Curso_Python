{
 "cells": [
  {
   "cell_type": "markdown",
   "metadata": {},
   "source": [
    "# Ejercicio - Escribir declaraciones if, else, y elif\n",
    "\n",
    "Para este ejercicio, escribirás una lógica condicional que imprima una advertencia si un asteroide se acerca a la Tierra demasiado rápido. La velocidad del asteroide varía dependiendo de lo cerca que esté del sol, y cualquier velocidad superior a 25 kilómetros por segundo (km/s) merece una advertencia.\n",
    "\n",
    "Un asteroide se acerca, y viaja a una velocidad de 49 km/s."
   ]
  },
  {
   "cell_type": "code",
   "execution_count": 1,
   "metadata": {},
   "outputs": [
    {
     "name": "stdout",
     "output_type": "stream",
     "text": [
      "[Peligro]: un asteroide se acerca velozmente a la Tierra!!\n"
     ]
    }
   ],
   "source": [
    "velocidad = 49 #km/s\n",
    "\n",
    "if velocidad > 25:\n",
    "    print(\"[Peligro]: un asteroide se acerca velozmente a la Tierra!!\")\n",
    "else:\n",
    "    print(\"[Advertencia]: un asteroide se acerca a la tierra, su velocidad es baja\")"
   ]
  },
  {
   "cell_type": "markdown",
   "metadata": {},
   "source": [
    "Si un asteroide entra en la atmósfera de la Tierra a una velocidad mayor o igual a 20 km/s, a veces produce un rayo de luz que se puede ver desde la Tierra. Escribe la lógica condicional que usa declaraciones if, else, y elif para alertar a las personas de todo el mundo que deben buscar un asteroide en el cielo. ¡Hay uno que se dirige a la tierra ahora a una velocidad de 19 km/s!"
   ]
  },
  {
   "cell_type": "code",
   "execution_count": 4,
   "metadata": {},
   "outputs": [
    {
     "name": "stdout",
     "output_type": "stream",
     "text": [
      "No hay nada por observar.\n"
     ]
    }
   ],
   "source": [
    "velocidad = 19 #km/s\n",
    "\n",
    "if velocidad > 20:\n",
    "    print(\"Mira arriba! Hay un evento espectacular.\")\n",
    "elif velocidad == 20:\n",
    "    print(\"Mira arriba! Hay un evento espectacular.\")\n",
    "else:\n",
    "    print(\"No hay nada por observar.\")"
   ]
  },
  {
   "cell_type": "markdown",
   "metadata": {},
   "source": [
    "# Ejercicio: Uso de operadores and y or\n",
    "\n",
    "En este ejercicio, aprenderás información más matizada sobre cuándo los asteroides representan un peligro para la Tierra, y utilizarás esa información para mejorar nuestro sistema de advertencia. Aquí está la nueva información que necesitas saber:\n",
    "\n",
    "*Los asteroides de menos de 25 metros en su dimensión más grande probablemente se quemarán a medida que entren en la atmósfera de la Tierra.\n",
    "\n",
    "Si una pieza de un asteroide que es más grande que 25 metros pero más pequeña que 1000 metros golpeara la Tierra, causaría mucho daño.\n",
    "También discutimos en el ejercicio anterior que:\n",
    "\n",
    "La velocidad del asteroide varía en función de lo cerca que esté del sol, y cualquier velocidad superior a 25 kilómetros por segundo (km/s) merece una advertencia.\n",
    "Si un asteroide entra en la atmósfera de la Tierra a una velocidad mayor o igual a 20 km/s, a veces produce un rayo de luz que se puede ver desde la Tierra.\n",
    "Usando toda esta información, escribe un programa que emita la advertencia o información correcta a la gente de la Tierra, según la velocidad y el tamaño de un asteroide. Utiliza instrucciones if, else, y elif, así como los operadores and y or."
   ]
  },
  {
   "cell_type": "code",
   "execution_count": 26,
   "metadata": {},
   "outputs": [
    {
     "name": "stdout",
     "output_type": "stream",
     "text": [
      "No hay nada por observar.\n",
      "[Advertencia]: asteroide acercandose a quemárse en la atmósfera\n"
     ]
    }
   ],
   "source": [
    "velocidad = 10#km/s\n",
    "dimensiones = 10 #m\n",
    "\n",
    "if velocidad >= 20:\n",
    "    print(\"Mira arriba! Hay un evento espectacular.\")\n",
    "else:\n",
    "    print(\"No hay nada por observar.\")\n",
    "\n",
    "\n",
    "if  velocidad>25:\n",
    "    if (dimensiones<=25) and (dimensiones > 0):\n",
    "        print(\"[Advertencia]: asteroide peligroso acercansode a quemarse en la atmósfera\")\n",
    "    elif (dimensiones > 25) and (dimensiones<1000):\n",
    "        print(\"[Peligro]: destrucción inminente por ateroide gigante a gran velocidad\")\n",
    "elif velocidad<=25 and velocidad>0:\n",
    "    if (dimensiones<=25) and (dimensiones > 0):\n",
    "        print(\"[Advertencia]: asteroide acercandose a quemárse en la atmósfera\")\n",
    "    elif (dimensiones > 25) and (dimensiones<1000):\n",
    "        print(\"[Peligro]: asteriode gigante en camino a velocidad baja, preparar plan de contingencia!\")\n",
    "else:\n",
    "    print(\"Mensaje de rutina, continúa tu día\")\n",
    "    "
   ]
  }
 ],
 "metadata": {
  "interpreter": {
   "hash": "3b22382fa247ca67c1899e6820d327c3c9c88c13ae6d1e8a777ddbd3dce2a0d1"
  },
  "kernelspec": {
   "display_name": "Python 3.8.10 64-bit",
   "language": "python",
   "name": "python3"
  },
  "language_info": {
   "codemirror_mode": {
    "name": "ipython",
    "version": 3
   },
   "file_extension": ".py",
   "mimetype": "text/x-python",
   "name": "python",
   "nbconvert_exporter": "python",
   "pygments_lexer": "ipython3",
   "version": "3.8.10"
  },
  "orig_nbformat": 4
 },
 "nbformat": 4,
 "nbformat_minor": 2
}
