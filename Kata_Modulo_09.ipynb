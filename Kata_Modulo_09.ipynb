{
 "cells": [
  {
   "cell_type": "markdown",
   "metadata": {},
   "source": [
    "# Ejercicio: Uso de funciones en Python\n",
    "## Ejercicio 1: Trabajar con argumentos en funciones\n",
    "\n",
    "En este ejercicio, construirás un informe de combustible que requiere información de varias ubicaciones de combustible en todo el cohete."
   ]
  },
  {
   "cell_type": "code",
   "execution_count": 8,
   "metadata": {},
   "outputs": [
    {
     "name": "stdout",
     "output_type": "stream",
     "text": [
      "Nivel de combustible en tanques: \n",
      "    Principal:\t47%\n",
      "    Secundario:\t52%\n",
      "    Reserva:\t89%\n",
      "    Promedio de combustible en nave: 62.666666666666664%\n"
     ]
    }
   ],
   "source": [
    "# Creación de la función reporte y promedio\n",
    "def combustible_nave(tanque_principal, tanque_secundario, tanque_reserva):\n",
    "    promedio = (tanque_principal + tanque_secundario + tanque_reserva)/3\n",
    "    return f\"\"\"Nivel de combustible en tanques: \n",
    "    Principal:\\t{tanque_principal}%\n",
    "    Secundario:\\t{tanque_secundario}%\n",
    "    Reserva:\\t{tanque_reserva}%\n",
    "    Promedio de combustible en nave: {promedio}%\"\"\"\n",
    "\n",
    "#Comprobación de la función\n",
    "print(combustible_nave(47,52,89))\n"
   ]
  },
  {
   "cell_type": "code",
   "execution_count": 9,
   "metadata": {},
   "outputs": [
    {
     "name": "stdout",
     "output_type": "stream",
     "text": [
      "Nivel de combustible en tanques: \n",
      "    Principal:\t56%\n",
      "    Secundario:\t78%\n",
      "    Reserva:\t99%\n",
      "    Promedio de combustible en nave: 77.66666666666667%\n"
     ]
    }
   ],
   "source": [
    "# Creación de la función Promedio\n",
    "def promedio(valores):\n",
    "    len_valores=len(valores)\n",
    "    resultado=0\n",
    "    for valor in valores:\n",
    "        resultado=resultado+valor\n",
    "    return resultado/len_valores\n",
    "\n",
    "# Actualización de función de informe\n",
    "def combustible_nave(tanque_principal, tanque_secundario, tanque_reserva):\n",
    "    return f\"\"\"Nivel de combustible en tanques: \n",
    "    Principal:\\t{tanque_principal}%\n",
    "    Secundario:\\t{tanque_secundario}%\n",
    "    Reserva:\\t{tanque_reserva}%\n",
    "    Promedio de combustible en nave: {promedio([tanque_principal,tanque_secundario,tanque_reserva])}%\"\"\"\n",
    "\n",
    "# Comprobación de las funciones\n",
    "print(combustible_nave(56,78,99))"
   ]
  },
  {
   "cell_type": "markdown",
   "metadata": {},
   "source": [
    "# Ejercicio 2: Trabajo con argumentos de palabra clave\n",
    "## Ejercicio : Trabajar con argumentos de palabras clave en funciones\n",
    "\n",
    "En este ejercicio, construirás un informe de cohete que requiere varias piezas de información, como el tiempo hasta el destino, el combustible a la izquierda y el nombre del destino. "
   ]
  },
  {
   "cell_type": "code",
   "execution_count": 30,
   "metadata": {},
   "outputs": [
    {
     "name": "stdout",
     "output_type": "stream",
     "text": [
      "Informe de misión:\n",
      "    Destino:\t\t\tLuna\n",
      "    FyH de Prelanzamiento:\t2022-02-13 19:00:00\n",
      "    FyH de Llegada:\t\t2022-02-14 03:20:00 \n",
      "    Combustible Restante:\t28.5%\n"
     ]
    }
   ],
   "source": [
    "# Función con un informe preciso de la misión. Considera hora de prelanzamiento, tiempo de vuelo, destino, tanque externo y tanque interno\n",
    "\n",
    "from datetime import timedelta, time, datetime\n",
    "\n",
    "def informe_mision(prelaunch_hour, flight_time, destination, extern_tank, intern_tank):\n",
    "    fl_tm = datetime(2022,2,13,prelaunch_hour,0,0,0) + timedelta(minutes=flight_time)\n",
    "    return fl_tm.strftime(f\"\"\"Informe de misión:\n",
    "    Destino:\\t\\t\\t{destination}\n",
    "    FyH de Prelanzamiento:\\t{datetime(2022,2,13,prelaunch_hour,0,0,0)}\n",
    "    FyH de Llegada:\\t\\t%Y-%m-%d %H:%M:%S \n",
    "    Combustible Restante:\\t{(extern_tank+intern_tank)/2}%%\"\"\")\n",
    "\n",
    "# Comprobación de función\n",
    "print(informe_mision(19,500,'Luna', 45, 12))\n"
   ]
  },
  {
   "cell_type": "code",
   "execution_count": 35,
   "metadata": {},
   "outputs": [
    {
     "name": "stdout",
     "output_type": "stream",
     "text": [
      "Informe de misión:\n",
      "    Destino:\t\t\tLuna\n",
      "    FyH de Prelanzamiento:\t2022-02-13 19:00:00\n",
      "    FyH de Llegada:\t\t2022-02-14 05:04:00 \n",
      "    Combustible Restante:\t58.5%\n"
     ]
    }
   ],
   "source": [
    "# Reescribiendo la función considerando agumentos variables y de palabras clave variables \n",
    "from datetime import timedelta, time, datetime\n",
    "\n",
    "# La función conservará la hora de prelanzamiento como argumento separado para hacer la consideración de la fecha y hora de prelanzamiento, los demás retrasos y minutos extra se consideran después\n",
    "def informe_mision(prelaunch_hour, destination, *minutos, **tanques):\n",
    "    \n",
    "    fl_tm = datetime(2022,2,13,prelaunch_hour,0,0,0) + timedelta(minutes=sum(minutos))\n",
    "    \n",
    "    return fl_tm.strftime(f\"\"\"Informe de misión:\n",
    "    Destino:\\t\\t\\t{destination}\n",
    "    FyH de Prelanzamiento:\\t{datetime(2022,2,13,prelaunch_hour,0,0,0)}\n",
    "    FyH de Llegada:\\t\\t%Y-%m-%d %H:%M:%S \n",
    "    Combustible Restante:\\t{(sum(tanques.values()))/len(tanques)}%%\"\"\")\n",
    "\n",
    "# Comprobación de función\n",
    "print(informe_mision(19,'Luna',500,50,54, interno = 45, externo = 72))"
   ]
  },
  {
   "cell_type": "code",
   "execution_count": 39,
   "metadata": {},
   "outputs": [
    {
     "name": "stdout",
     "output_type": "stream",
     "text": [
      "Informe de misión:\n",
      "    Destino:\t\t\tLuna\n",
      "    FyH de Prelanzamiento:\t2022-02-13 19:00:00\n",
      "    FyH de Llegada:\t\t2022-02-14 05:04:00 \n",
      "    Combustible Restante:\t58.5%\n",
      "    Desgloce por tanque:\n",
      "\t\tinterno:\t45%\n",
      "\t\texterno:\t72%\n",
      "\n"
     ]
    }
   ],
   "source": [
    "# Actualización de la función con los nombres de los tanques en el reporte final\n",
    "from datetime import timedelta, time, datetime\n",
    "\n",
    "# La función conservará la hora de prelanzamiento como argumento separado para hacer la consideración de la fecha y hora de prelanzamiento, los demás retrasos y minutos extra se consideran después\n",
    "def informe_mision(prelaunch_hour, destination, *minutos, **tanques):\n",
    "    \n",
    "    fl_tm = datetime(2022,2,13,prelaunch_hour,0,0,0) + timedelta(minutes=sum(minutos))\n",
    "    \n",
    "    informe_final = fl_tm.strftime(f\"\"\"Informe de misión:\n",
    "    Destino:\\t\\t\\t{destination}\n",
    "    FyH de Prelanzamiento:\\t{datetime(2022,2,13,prelaunch_hour,0,0,0)}\n",
    "    FyH de Llegada:\\t\\t%Y-%m-%d %H:%M:%S \n",
    "    Combustible Restante:\\t{(sum(tanques.values()))/len(tanques)}%%\n",
    "    Desgloce por tanque:\\n\"\"\")\n",
    "\n",
    "    for tanque, combustible in tanques.items():\n",
    "        informe_final += f\"\\t\\t{tanque}:\\t{combustible}%\\n\"\n",
    "    \n",
    "    return informe_final\n",
    "\n",
    "\n",
    "\n",
    "# Comprobación de función\n",
    "print(informe_mision(19,'Luna',500,50,54, interno = 45, externo = 72))"
   ]
  }
 ],
 "metadata": {
  "interpreter": {
   "hash": "3b22382fa247ca67c1899e6820d327c3c9c88c13ae6d1e8a777ddbd3dce2a0d1"
  },
  "kernelspec": {
   "display_name": "Python 3.8.10 64-bit",
   "language": "python",
   "name": "python3"
  },
  "language_info": {
   "codemirror_mode": {
    "name": "ipython",
    "version": 3
   },
   "file_extension": ".py",
   "mimetype": "text/x-python",
   "name": "python",
   "nbconvert_exporter": "python",
   "pygments_lexer": "ipython3",
   "version": "3.8.10"
  },
  "orig_nbformat": 4
 },
 "nbformat": 4,
 "nbformat_minor": 2
}
