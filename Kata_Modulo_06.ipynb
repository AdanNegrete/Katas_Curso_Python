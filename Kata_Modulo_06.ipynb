{
 "cells": [
  {
   "cell_type": "markdown",
   "metadata": {},
   "source": [
    "# Ejercicio1: Crear y usar listas de Python\n",
    "\n",
    "Ejercicio: Usar listas para almacenar nombres de planetas"
   ]
  },
  {
   "cell_type": "code",
   "execution_count": 1,
   "metadata": {},
   "outputs": [
    {
     "name": "stdout",
     "output_type": "stream",
     "text": [
      "Planetas Registrados: 8\n"
     ]
    }
   ],
   "source": [
    "planets=['Mercurio','Venus','Tierra','Marte','Júpiter','Saturno','Urano','Neptuno']\n",
    "print(f'Planetas Registrados: {len(planets)}')"
   ]
  },
  {
   "cell_type": "code",
   "execution_count": 2,
   "metadata": {},
   "outputs": [
    {
     "name": "stdout",
     "output_type": "stream",
     "text": [
      "Planetas Registrados: 9 \n",
      "Último Planeta: Plutón\n"
     ]
    }
   ],
   "source": [
    "# Agregando a Plutón\n",
    "planets.append('Plutón')\n",
    "print(f'Planetas Registrados: {len(planets)} \\nÚltimo Planeta: {planets[-1]}')"
   ]
  },
  {
   "cell_type": "markdown",
   "metadata": {},
   "source": [
    "# Ejercicio 2: Trabajando con datos de una lista\n",
    "\n",
    "Usar slices para recuperar partes de una lista.\n",
    "En nuestro ejemplo, queremos mostrar planetas más cerca y más lejos del sol de un planeta que el usuario ingresa por teclado."
   ]
  },
  {
   "cell_type": "code",
   "execution_count": 5,
   "metadata": {},
   "outputs": [
    {
     "name": "stdout",
     "output_type": "stream",
     "text": [
      "Planeta añadido:  Alfa\n",
      "Planetas más cercanos: \n",
      "['Mercurio', 'Venus', 'Tierra', 'Marte', 'Júpiter', 'Saturno', 'Urano', 'Neptuno']\n",
      "Planetas más lejanos: \n",
      "[]\n"
     ]
    }
   ],
   "source": [
    "# Lista de Planetas\n",
    "planetas=['Mercurio','Venus','Tierra','Marte','Júpiter','Saturno','Urano','Neptuno']\n",
    "planeta=input(\"Ingresa el nombre de un planeta.\")\n",
    "planeta=planeta.title()\n",
    "if planeta not in planetas:\n",
    "    planetas.append(planeta)\n",
    "    print('Planeta añadido: ',planetas[-1])\n",
    "\n",
    "#Buscando planeta en la lista\n",
    "pos_planeta=planetas.index(planeta)\n",
    "\n",
    "# Planetas más cercanos al sol\n",
    "print(f\"Planetas más cercanos: \\n{planetas[0:pos_planeta]}\")\n",
    "\n",
    "# Planetas más lejanos\n",
    "print(f\"Planetas más lejanos: \\n{planetas[pos_planeta+1:]}\")"
   ]
  },
  {
   "cell_type": "code",
   "execution_count": null,
   "metadata": {},
   "outputs": [],
   "source": []
  }
 ],
 "metadata": {
  "interpreter": {
   "hash": "3b22382fa247ca67c1899e6820d327c3c9c88c13ae6d1e8a777ddbd3dce2a0d1"
  },
  "kernelspec": {
   "display_name": "Python 3.8.10 64-bit",
   "language": "python",
   "name": "python3"
  },
  "language_info": {
   "codemirror_mode": {
    "name": "ipython",
    "version": 3
   },
   "file_extension": ".py",
   "mimetype": "text/x-python",
   "name": "python",
   "nbconvert_exporter": "python",
   "pygments_lexer": "ipython3",
   "version": "3.8.10"
  },
  "orig_nbformat": 4
 },
 "nbformat": 4,
 "nbformat_minor": 2
}
