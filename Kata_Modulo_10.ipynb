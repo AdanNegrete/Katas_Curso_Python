{
 "cells": [
  {
   "cell_type": "markdown",
   "metadata": {},
   "source": [
    "# Tracebacks\n"
   ]
  },
  {
   "cell_type": "code",
   "execution_count": 1,
   "metadata": {},
   "outputs": [
    {
     "ename": "FileNotFoundError",
     "evalue": "[Errno 2] No such file or directory: '/path/to/mars.jpg'",
     "output_type": "error",
     "traceback": [
      "\u001b[1;31m---------------------------------------------------------------------------\u001b[0m",
      "\u001b[1;31mFileNotFoundError\u001b[0m                         Traceback (most recent call last)",
      "\u001b[1;32ma:\\Documentos\\Launch-X\\Primera Misión\\Curso_Intro_Python_Katas\\Kata_Modulo_10.ipynb Cell 1'\u001b[0m in \u001b[0;36m<module>\u001b[1;34m\u001b[0m\n\u001b[0;32m      <a href='vscode-notebook-cell:/a%3A/Documentos/Launch-X/Primera%20Misi%C3%B3n/Curso_Intro_Python_Katas/Kata_Modulo_10.ipynb#ch0000000?line=1'>2</a>\u001b[0m     \u001b[39mopen\u001b[39m(\u001b[39m\"\u001b[39m\u001b[39m/path/to/mars.jpg\u001b[39m\u001b[39m\"\u001b[39m)\n\u001b[0;32m      <a href='vscode-notebook-cell:/a%3A/Documentos/Launch-X/Primera%20Misi%C3%B3n/Curso_Intro_Python_Katas/Kata_Modulo_10.ipynb#ch0000000?line=3'>4</a>\u001b[0m \u001b[39mif\u001b[39;00m \u001b[39m__name__\u001b[39m \u001b[39m==\u001b[39m \u001b[39m'\u001b[39m\u001b[39m__main__\u001b[39m\u001b[39m'\u001b[39m:\n\u001b[1;32m----> <a href='vscode-notebook-cell:/a%3A/Documentos/Launch-X/Primera%20Misi%C3%B3n/Curso_Intro_Python_Katas/Kata_Modulo_10.ipynb#ch0000000?line=4'>5</a>\u001b[0m     main()\n",
      "\u001b[1;32ma:\\Documentos\\Launch-X\\Primera Misión\\Curso_Intro_Python_Katas\\Kata_Modulo_10.ipynb Cell 1'\u001b[0m in \u001b[0;36mmain\u001b[1;34m()\u001b[0m\n\u001b[0;32m      <a href='vscode-notebook-cell:/a%3A/Documentos/Launch-X/Primera%20Misi%C3%B3n/Curso_Intro_Python_Katas/Kata_Modulo_10.ipynb#ch0000000?line=0'>1</a>\u001b[0m \u001b[39mdef\u001b[39;00m \u001b[39mmain\u001b[39m():\n\u001b[1;32m----> <a href='vscode-notebook-cell:/a%3A/Documentos/Launch-X/Primera%20Misi%C3%B3n/Curso_Intro_Python_Katas/Kata_Modulo_10.ipynb#ch0000000?line=1'>2</a>\u001b[0m     \u001b[39mopen\u001b[39;49m(\u001b[39m\"\u001b[39;49m\u001b[39m/path/to/mars.jpg\u001b[39;49m\u001b[39m\"\u001b[39;49m)\n",
      "\u001b[1;31mFileNotFoundError\u001b[0m: [Errno 2] No such file or directory: '/path/to/mars.jpg'"
     ]
    }
   ],
   "source": [
    "def main():\n",
    "    open(\"/path/to/mars.jpg\")\n",
    "\n",
    "if __name__ == '__main__':\n",
    "    main()"
   ]
  },
  {
   "cell_type": "markdown",
   "metadata": {},
   "source": [
    "# Controlando las excepciones\n",
    "\n",
    "## Try y Except de los bloques\n"
   ]
  },
  {
   "cell_type": "code",
   "execution_count": 12,
   "metadata": {},
   "outputs": [
    {
     "name": "stdout",
     "output_type": "stream",
     "text": [
      "Couldn't find the config.txt file!\n"
     ]
    }
   ],
   "source": [
    "def main():\n",
    "    try:\n",
    "        configuration = open('config.txt')\n",
    "    except FileNotFoundError:\n",
    "        print(\"Couldn't find the config.txt file!\")\n",
    "\n",
    "\n",
    "if __name__ == '__main__':\n",
    "    main()"
   ]
  },
  {
   "cell_type": "code",
   "execution_count": 16,
   "metadata": {},
   "outputs": [
    {
     "ename": "PermissionError",
     "evalue": "[Errno 13] Permission denied: 'config.txt'",
     "output_type": "error",
     "traceback": [
      "\u001b[1;31m---------------------------------------------------------------------------\u001b[0m",
      "\u001b[1;31mPermissionError\u001b[0m                           Traceback (most recent call last)",
      "\u001b[1;32ma:\\Documentos\\Launch-X\\Primera Misión\\Curso_Intro_Python_Katas\\Kata_Modulo_10.ipynb Cell 5'\u001b[0m in \u001b[0;36m<module>\u001b[1;34m\u001b[0m\n\u001b[0;32m      <a href='vscode-notebook-cell:/a%3A/Documentos/Launch-X/Primera%20Misi%C3%B3n/Curso_Intro_Python_Katas/Kata_Modulo_10.ipynb#ch0000004?line=0'>1</a>\u001b[0m \u001b[39m#Repitiendo el programa anterior con el directorio config.txt\u001b[39;00m\n\u001b[0;32m      <a href='vscode-notebook-cell:/a%3A/Documentos/Launch-X/Primera%20Misi%C3%B3n/Curso_Intro_Python_Katas/Kata_Modulo_10.ipynb#ch0000004?line=1'>2</a>\u001b[0m \u001b[39mif\u001b[39;00m \u001b[39m__name__\u001b[39m \u001b[39m==\u001b[39m \u001b[39m'\u001b[39m\u001b[39m__main__\u001b[39m\u001b[39m'\u001b[39m:\n\u001b[1;32m----> <a href='vscode-notebook-cell:/a%3A/Documentos/Launch-X/Primera%20Misi%C3%B3n/Curso_Intro_Python_Katas/Kata_Modulo_10.ipynb#ch0000004?line=2'>3</a>\u001b[0m     main()\n",
      "\u001b[1;32ma:\\Documentos\\Launch-X\\Primera Misión\\Curso_Intro_Python_Katas\\Kata_Modulo_10.ipynb Cell 4'\u001b[0m in \u001b[0;36mmain\u001b[1;34m()\u001b[0m\n\u001b[0;32m      <a href='vscode-notebook-cell:/a%3A/Documentos/Launch-X/Primera%20Misi%C3%B3n/Curso_Intro_Python_Katas/Kata_Modulo_10.ipynb#ch0000001?line=0'>1</a>\u001b[0m \u001b[39mdef\u001b[39;00m \u001b[39mmain\u001b[39m():\n\u001b[0;32m      <a href='vscode-notebook-cell:/a%3A/Documentos/Launch-X/Primera%20Misi%C3%B3n/Curso_Intro_Python_Katas/Kata_Modulo_10.ipynb#ch0000001?line=1'>2</a>\u001b[0m     \u001b[39mtry\u001b[39;00m:\n\u001b[1;32m----> <a href='vscode-notebook-cell:/a%3A/Documentos/Launch-X/Primera%20Misi%C3%B3n/Curso_Intro_Python_Katas/Kata_Modulo_10.ipynb#ch0000001?line=2'>3</a>\u001b[0m         configuration \u001b[39m=\u001b[39m \u001b[39mopen\u001b[39;49m(\u001b[39m'\u001b[39;49m\u001b[39mconfig.txt\u001b[39;49m\u001b[39m'\u001b[39;49m)\n\u001b[0;32m      <a href='vscode-notebook-cell:/a%3A/Documentos/Launch-X/Primera%20Misi%C3%B3n/Curso_Intro_Python_Katas/Kata_Modulo_10.ipynb#ch0000001?line=3'>4</a>\u001b[0m     \u001b[39mexcept\u001b[39;00m \u001b[39mFileNotFoundError\u001b[39;00m:\n\u001b[0;32m      <a href='vscode-notebook-cell:/a%3A/Documentos/Launch-X/Primera%20Misi%C3%B3n/Curso_Intro_Python_Katas/Kata_Modulo_10.ipynb#ch0000001?line=4'>5</a>\u001b[0m         \u001b[39mprint\u001b[39m(\u001b[39m\"\u001b[39m\u001b[39mCouldn\u001b[39m\u001b[39m'\u001b[39m\u001b[39mt find the config.txt file!\u001b[39m\u001b[39m\"\u001b[39m)\n",
      "\u001b[1;31mPermissionError\u001b[0m: [Errno 13] Permission denied: 'config.txt'"
     ]
    }
   ],
   "source": [
    "#Repitiendo el programa anterior con el directorio config.txt\n",
    "if __name__ == '__main__':\n",
    "    main()"
   ]
  },
  {
   "cell_type": "code",
   "execution_count": 7,
   "metadata": {},
   "outputs": [
    {
     "name": "stdout",
     "output_type": "stream",
     "text": [
      "Couldn't find the config.txt file!\n"
     ]
    }
   ],
   "source": [
    "# Actualizando con para que capte todas las excepciones\n",
    "def main():\n",
    "    try:\n",
    "        configuration = open('config.txt')\n",
    "    except Exception:\n",
    "        print(\"Couldn't find the config.txt file!\")\n",
    "\n",
    "if __name__ == '__main__':\n",
    "    main()"
   ]
  },
  {
   "cell_type": "code",
   "execution_count": 17,
   "metadata": {},
   "outputs": [
    {
     "name": "stdout",
     "output_type": "stream",
     "text": [
      "You don't have Permission to access to this file/directory\n"
     ]
    }
   ],
   "source": [
    "# Verificando las excepciones obtenidas\n",
    "def main():\n",
    "    try:\n",
    "        open('config.txt')\n",
    "    except FileNotFoundError:\n",
    "        print(\"Couldn't find the config.txt file!\")\n",
    "    except IsADirectoryError:\n",
    "        print(\"Found config.txt but it is a directory, couldn't read it\")\n",
    "    except PermissionError:\n",
    "        print(\"You don't have Permission to access to this file/directory\")\n",
    "\n",
    "if __name__ == '__main__':\n",
    "    main()"
   ]
  },
  {
   "cell_type": "code",
   "execution_count": 18,
   "metadata": {},
   "outputs": [
    {
     "name": "stdout",
     "output_type": "stream",
     "text": [
      "Couldn't find the config.txt file!\n"
     ]
    }
   ],
   "source": [
    "#Probando luego de borrar el directorio\n",
    "main()"
   ]
  },
  {
   "cell_type": "code",
   "execution_count": 19,
   "metadata": {},
   "outputs": [],
   "source": [
    "# Función con detección de tiempo de espera agotado\n",
    "def main():\n",
    "    try:\n",
    "        configuration = open('config.txt')\n",
    "    except FileNotFoundError:\n",
    "        print(\"Couldn't find the config.txt file!\")\n",
    "    except IsADirectoryError:\n",
    "        print(\"Found config.txt but it is a directory, couldn't read it\")\n",
    "    except PermissionError:\n",
    "        print(\"You don't have Permission to access to this file/directory\")\n",
    "    except (BlockingIOError, TimeoutError):\n",
    "        print(\"Filesystem under heavy load, can't complete reading configuration file\")"
   ]
  },
  {
   "cell_type": "code",
   "execution_count": 20,
   "metadata": {},
   "outputs": [
    {
     "name": "stdout",
     "output_type": "stream",
     "text": [
      "Hay un problema para leer el archivo: [Errno 2] No such file or directory: 'mars.jpg'\n"
     ]
    }
   ],
   "source": [
    "# Intento de lectura de archivo obteniendo la excepción como variable\n",
    "try:\n",
    "    open('mars.jpg')\n",
    "except FileNotFoundError as err:\n",
    "    print(\"Hay un problema para leer el archivo:\",err)"
   ]
  },
  {
   "cell_type": "code",
   "execution_count": 22,
   "metadata": {},
   "outputs": [
    {
     "name": "stdout",
     "output_type": "stream",
     "text": [
      "El archivo config.txt no ha sido encontrado!\n"
     ]
    }
   ],
   "source": [
    "try:\n",
    "    open('config.txt')\n",
    "except OSError as err:\n",
    "    if err.errno == 2:\n",
    "        print(\"El archivo config.txt no ha sido encontrado!\")\n",
    "    if err.errno == 13:\n",
    "        print(\"No posees los permisos necesarios para acceder al archivo/directorio\")"
   ]
  },
  {
   "cell_type": "markdown",
   "metadata": {},
   "source": [
    "# Generación de excepciones\n",
    "\n",
    "Los astronautas limitan su uso de agua a unos 11 litros al día. Vamos a crear una función que, con base al número de astronautas, pueda calcular la cantidad de agua quedará después de un día o más:"
   ]
  },
  {
   "cell_type": "code",
   "execution_count": 23,
   "metadata": {},
   "outputs": [
    {
     "data": {
      "text/plain": [
       "'Después de 2 dias, el agua restante es: -10 litros'"
      ]
     },
     "execution_count": 23,
     "metadata": {},
     "output_type": "execute_result"
    }
   ],
   "source": [
    "#Función\n",
    "def agua_restante(astronautas, agua_restante, dias_restantes):\n",
    "    consumo_dia = astronautas * 11\n",
    "    consumo_ttl = consumo_dia * dias_restantes\n",
    "    agua_total_restante =agua_restante - consumo_ttl\n",
    "    return f\"Después de {dias_restantes} dias, el agua restante es: {agua_total_restante} litros\" \n",
    "\n",
    "#Prueba Rápida\n",
    "agua_restante(5,100,2)"
   ]
  },
  {
   "cell_type": "code",
   "execution_count": 25,
   "metadata": {},
   "outputs": [
    {
     "ename": "RuntimeError",
     "evalue": "No hay suficiente agua para 5 astronautas luego de 2 días!",
     "output_type": "error",
     "traceback": [
      "\u001b[1;31m---------------------------------------------------------------------------\u001b[0m",
      "\u001b[1;31mRuntimeError\u001b[0m                              Traceback (most recent call last)",
      "\u001b[1;32ma:\\Documentos\\Launch-X\\Primera Misión\\Curso_Intro_Python_Katas\\Kata_Modulo_10.ipynb Cell 14'\u001b[0m in \u001b[0;36m<module>\u001b[1;34m\u001b[0m\n\u001b[0;32m      <a href='vscode-notebook-cell:/a%3A/Documentos/Launch-X/Primera%20Misi%C3%B3n/Curso_Intro_Python_Katas/Kata_Modulo_10.ipynb#ch0000013?line=7'>8</a>\u001b[0m     \u001b[39mreturn\u001b[39;00m \u001b[39mf\u001b[39m\u001b[39m\"\u001b[39m\u001b[39mDespués de \u001b[39m\u001b[39m{\u001b[39;00mdias_restantes\u001b[39m}\u001b[39;00m\u001b[39m dias, el agua restante es: \u001b[39m\u001b[39m{\u001b[39;00magua_total_restante\u001b[39m}\u001b[39;00m\u001b[39m litros\u001b[39m\u001b[39m\"\u001b[39m \n\u001b[0;32m     <a href='vscode-notebook-cell:/a%3A/Documentos/Launch-X/Primera%20Misi%C3%B3n/Curso_Intro_Python_Katas/Kata_Modulo_10.ipynb#ch0000013?line=9'>10</a>\u001b[0m \u001b[39m#Segunda prueba rápida\u001b[39;00m\n\u001b[1;32m---> <a href='vscode-notebook-cell:/a%3A/Documentos/Launch-X/Primera%20Misi%C3%B3n/Curso_Intro_Python_Katas/Kata_Modulo_10.ipynb#ch0000013?line=10'>11</a>\u001b[0m agua_restante(\u001b[39m5\u001b[39;49m,\u001b[39m100\u001b[39;49m,\u001b[39m2\u001b[39;49m)\n",
      "\u001b[1;32ma:\\Documentos\\Launch-X\\Primera Misión\\Curso_Intro_Python_Katas\\Kata_Modulo_10.ipynb Cell 14'\u001b[0m in \u001b[0;36magua_restante\u001b[1;34m(astronautas, agua_restante, dias_restantes)\u001b[0m\n\u001b[0;32m      <a href='vscode-notebook-cell:/a%3A/Documentos/Launch-X/Primera%20Misi%C3%B3n/Curso_Intro_Python_Katas/Kata_Modulo_10.ipynb#ch0000013?line=4'>5</a>\u001b[0m agua_total_restante \u001b[39m=\u001b[39magua_restante \u001b[39m-\u001b[39m consumo_ttl\n\u001b[0;32m      <a href='vscode-notebook-cell:/a%3A/Documentos/Launch-X/Primera%20Misi%C3%B3n/Curso_Intro_Python_Katas/Kata_Modulo_10.ipynb#ch0000013?line=5'>6</a>\u001b[0m \u001b[39mif\u001b[39;00m agua_total_restante \u001b[39m<\u001b[39m \u001b[39m0\u001b[39m:\n\u001b[1;32m----> <a href='vscode-notebook-cell:/a%3A/Documentos/Launch-X/Primera%20Misi%C3%B3n/Curso_Intro_Python_Katas/Kata_Modulo_10.ipynb#ch0000013?line=6'>7</a>\u001b[0m     \u001b[39mraise\u001b[39;00m \u001b[39mRuntimeError\u001b[39;00m(\u001b[39mf\u001b[39m\u001b[39m\"\u001b[39m\u001b[39mNo hay suficiente agua para \u001b[39m\u001b[39m{\u001b[39;00mastronautas\u001b[39m}\u001b[39;00m\u001b[39m astronautas luego de \u001b[39m\u001b[39m{\u001b[39;00mdias_restantes\u001b[39m}\u001b[39;00m\u001b[39m días!\u001b[39m\u001b[39m\"\u001b[39m)\n\u001b[0;32m      <a href='vscode-notebook-cell:/a%3A/Documentos/Launch-X/Primera%20Misi%C3%B3n/Curso_Intro_Python_Katas/Kata_Modulo_10.ipynb#ch0000013?line=7'>8</a>\u001b[0m \u001b[39mreturn\u001b[39;00m \u001b[39mf\u001b[39m\u001b[39m\"\u001b[39m\u001b[39mDespués de \u001b[39m\u001b[39m{\u001b[39;00mdias_restantes\u001b[39m}\u001b[39;00m\u001b[39m dias, el agua restante es: \u001b[39m\u001b[39m{\u001b[39;00magua_total_restante\u001b[39m}\u001b[39;00m\u001b[39m litros\u001b[39m\u001b[39m\"\u001b[39m\n",
      "\u001b[1;31mRuntimeError\u001b[0m: No hay suficiente agua para 5 astronautas luego de 2 días!"
     ]
    }
   ],
   "source": [
    "# Modificando la función\n",
    "def agua_restante(astronautas, agua_restante, dias_restantes):\n",
    "    consumo_dia = astronautas * 11\n",
    "    consumo_ttl = consumo_dia * dias_restantes\n",
    "    agua_total_restante =agua_restante - consumo_ttl\n",
    "    if agua_total_restante < 0:\n",
    "        raise RuntimeError(f\"No hay suficiente agua para {astronautas} astronautas luego de {dias_restantes} días!\")\n",
    "    return f\"Después de {dias_restantes} dias, el agua restante es: {agua_total_restante} litros\" \n",
    "\n",
    "#Segunda prueba rápida\n",
    "agua_restante(5,100,2)"
   ]
  },
  {
   "cell_type": "code",
   "execution_count": 26,
   "metadata": {},
   "outputs": [
    {
     "name": "stdout",
     "output_type": "stream",
     "text": [
      "No hay suficiente agua para 5 astronautas luego de 2 días! \n",
      "[Alerta]: No hay suficiente agua!\n"
     ]
    }
   ],
   "source": [
    "#Función de alerta\n",
    "def alert_navigation_system(error):\n",
    "    print(error,f\"\\n[Alerta]: No hay suficiente agua!\")\n",
    "\n",
    "try:\n",
    "    agua_restante(5, 100, 2)\n",
    "except RuntimeError as err:\n",
    "    alert_navigation_system(err)"
   ]
  },
  {
   "cell_type": "code",
   "execution_count": 27,
   "metadata": {},
   "outputs": [
    {
     "ename": "TypeError",
     "evalue": "unsupported operand type(s) for *: 'int' and 'NoneType'",
     "output_type": "error",
     "traceback": [
      "\u001b[1;31m---------------------------------------------------------------------------\u001b[0m",
      "\u001b[1;31mTypeError\u001b[0m                                 Traceback (most recent call last)",
      "\u001b[1;32ma:\\Documentos\\Launch-X\\Primera Misión\\Curso_Intro_Python_Katas\\Kata_Modulo_10.ipynb Cell 16'\u001b[0m in \u001b[0;36m<module>\u001b[1;34m\u001b[0m\n\u001b[0;32m      <a href='vscode-notebook-cell:/a%3A/Documentos/Launch-X/Primera%20Misi%C3%B3n/Curso_Intro_Python_Katas/Kata_Modulo_10.ipynb#ch0000015?line=0'>1</a>\u001b[0m \u001b[39m#Probando con tipos no admitidos.\u001b[39;00m\n\u001b[1;32m----> <a href='vscode-notebook-cell:/a%3A/Documentos/Launch-X/Primera%20Misi%C3%B3n/Curso_Intro_Python_Katas/Kata_Modulo_10.ipynb#ch0000015?line=1'>2</a>\u001b[0m agua_restante(\u001b[39m5\u001b[39;49m,\u001b[39m100\u001b[39;49m,\u001b[39mNone\u001b[39;49;00m)\n",
      "\u001b[1;32ma:\\Documentos\\Launch-X\\Primera Misión\\Curso_Intro_Python_Katas\\Kata_Modulo_10.ipynb Cell 14'\u001b[0m in \u001b[0;36magua_restante\u001b[1;34m(astronautas, agua_restante, dias_restantes)\u001b[0m\n\u001b[0;32m      <a href='vscode-notebook-cell:/a%3A/Documentos/Launch-X/Primera%20Misi%C3%B3n/Curso_Intro_Python_Katas/Kata_Modulo_10.ipynb#ch0000013?line=1'>2</a>\u001b[0m \u001b[39mdef\u001b[39;00m \u001b[39magua_restante\u001b[39m(astronautas, agua_restante, dias_restantes):\n\u001b[0;32m      <a href='vscode-notebook-cell:/a%3A/Documentos/Launch-X/Primera%20Misi%C3%B3n/Curso_Intro_Python_Katas/Kata_Modulo_10.ipynb#ch0000013?line=2'>3</a>\u001b[0m     consumo_dia \u001b[39m=\u001b[39m astronautas \u001b[39m*\u001b[39m \u001b[39m11\u001b[39m\n\u001b[1;32m----> <a href='vscode-notebook-cell:/a%3A/Documentos/Launch-X/Primera%20Misi%C3%B3n/Curso_Intro_Python_Katas/Kata_Modulo_10.ipynb#ch0000013?line=3'>4</a>\u001b[0m     consumo_ttl \u001b[39m=\u001b[39m consumo_dia \u001b[39m*\u001b[39;49m dias_restantes\n\u001b[0;32m      <a href='vscode-notebook-cell:/a%3A/Documentos/Launch-X/Primera%20Misi%C3%B3n/Curso_Intro_Python_Katas/Kata_Modulo_10.ipynb#ch0000013?line=4'>5</a>\u001b[0m     agua_total_restante \u001b[39m=\u001b[39magua_restante \u001b[39m-\u001b[39m consumo_ttl\n\u001b[0;32m      <a href='vscode-notebook-cell:/a%3A/Documentos/Launch-X/Primera%20Misi%C3%B3n/Curso_Intro_Python_Katas/Kata_Modulo_10.ipynb#ch0000013?line=5'>6</a>\u001b[0m     \u001b[39mif\u001b[39;00m agua_total_restante \u001b[39m<\u001b[39m \u001b[39m0\u001b[39m:\n",
      "\u001b[1;31mTypeError\u001b[0m: unsupported operand type(s) for *: 'int' and 'NoneType'"
     ]
    }
   ],
   "source": [
    "#Probando con tipos no admitidos.\n",
    "agua_restante(5,100,None)"
   ]
  },
  {
   "cell_type": "code",
   "execution_count": 32,
   "metadata": {},
   "outputs": [
    {
     "ename": "TypeError",
     "evalue": "Todos los argumentos deben ser enteros (int), error con el valor: '5'",
     "output_type": "error",
     "traceback": [
      "\u001b[1;31m---------------------------------------------------------------------------\u001b[0m",
      "\u001b[1;31mTypeError\u001b[0m                                 Traceback (most recent call last)",
      "\u001b[1;32ma:\\Documentos\\Launch-X\\Primera Misión\\Curso_Intro_Python_Katas\\Kata_Modulo_10.ipynb Cell 17'\u001b[0m in \u001b[0;36magua_restante\u001b[1;34m(astronautas, agua_restante, dias_restantes)\u001b[0m\n\u001b[0;32m      <a href='vscode-notebook-cell:/a%3A/Documentos/Launch-X/Primera%20Misi%C3%B3n/Curso_Intro_Python_Katas/Kata_Modulo_10.ipynb#ch0000016?line=4'>5</a>\u001b[0m \u001b[39mtry\u001b[39;00m:\n\u001b[0;32m      <a href='vscode-notebook-cell:/a%3A/Documentos/Launch-X/Primera%20Misi%C3%B3n/Curso_Intro_Python_Katas/Kata_Modulo_10.ipynb#ch0000016?line=5'>6</a>\u001b[0m     \u001b[39m#Si se ejecuta correctamente el argumento si es un entero\u001b[39;00m\n\u001b[1;32m----> <a href='vscode-notebook-cell:/a%3A/Documentos/Launch-X/Primera%20Misi%C3%B3n/Curso_Intro_Python_Katas/Kata_Modulo_10.ipynb#ch0000016?line=6'>7</a>\u001b[0m     argumento \u001b[39m/\u001b[39;49m \u001b[39m10\u001b[39;49m \n\u001b[0;32m      <a href='vscode-notebook-cell:/a%3A/Documentos/Launch-X/Primera%20Misi%C3%B3n/Curso_Intro_Python_Katas/Kata_Modulo_10.ipynb#ch0000016?line=7'>8</a>\u001b[0m \u001b[39mexcept\u001b[39;00m \u001b[39mTypeError\u001b[39;00m:\n",
      "\u001b[1;31mTypeError\u001b[0m: unsupported operand type(s) for /: 'str' and 'int'",
      "\nDuring handling of the above exception, another exception occurred:\n",
      "\u001b[1;31mTypeError\u001b[0m                                 Traceback (most recent call last)",
      "\u001b[1;32ma:\\Documentos\\Launch-X\\Primera Misión\\Curso_Intro_Python_Katas\\Kata_Modulo_10.ipynb Cell 17'\u001b[0m in \u001b[0;36m<module>\u001b[1;34m\u001b[0m\n\u001b[0;32m     <a href='vscode-notebook-cell:/a%3A/Documentos/Launch-X/Primera%20Misi%C3%B3n/Curso_Intro_Python_Katas/Kata_Modulo_10.ipynb#ch0000016?line=16'>17</a>\u001b[0m     \u001b[39mreturn\u001b[39;00m \u001b[39mf\u001b[39m\u001b[39m\"\u001b[39m\u001b[39mDespués de \u001b[39m\u001b[39m{\u001b[39;00mdias_restantes\u001b[39m}\u001b[39;00m\u001b[39m dias, el agua restante es: \u001b[39m\u001b[39m{\u001b[39;00magua_total_restante\u001b[39m}\u001b[39;00m\u001b[39m litros\u001b[39m\u001b[39m\"\u001b[39m \n\u001b[0;32m     <a href='vscode-notebook-cell:/a%3A/Documentos/Launch-X/Primera%20Misi%C3%B3n/Curso_Intro_Python_Katas/Kata_Modulo_10.ipynb#ch0000016?line=18'>19</a>\u001b[0m \u001b[39m#Segunda prueba con tipos no admitidos\u001b[39;00m\n\u001b[1;32m---> <a href='vscode-notebook-cell:/a%3A/Documentos/Launch-X/Primera%20Misi%C3%B3n/Curso_Intro_Python_Katas/Kata_Modulo_10.ipynb#ch0000016?line=19'>20</a>\u001b[0m agua_restante(\u001b[39m'\u001b[39;49m\u001b[39m5\u001b[39;49m\u001b[39m'\u001b[39;49m,\u001b[39m'\u001b[39;49m\u001b[39m100\u001b[39;49m\u001b[39m'\u001b[39;49m,\u001b[39mNone\u001b[39;49;00m)\n",
      "\u001b[1;32ma:\\Documentos\\Launch-X\\Primera Misión\\Curso_Intro_Python_Katas\\Kata_Modulo_10.ipynb Cell 17'\u001b[0m in \u001b[0;36magua_restante\u001b[1;34m(astronautas, agua_restante, dias_restantes)\u001b[0m\n\u001b[0;32m      <a href='vscode-notebook-cell:/a%3A/Documentos/Launch-X/Primera%20Misi%C3%B3n/Curso_Intro_Python_Katas/Kata_Modulo_10.ipynb#ch0000016?line=6'>7</a>\u001b[0m         argumento \u001b[39m/\u001b[39m \u001b[39m10\u001b[39m \n\u001b[0;32m      <a href='vscode-notebook-cell:/a%3A/Documentos/Launch-X/Primera%20Misi%C3%B3n/Curso_Intro_Python_Katas/Kata_Modulo_10.ipynb#ch0000016?line=7'>8</a>\u001b[0m     \u001b[39mexcept\u001b[39;00m \u001b[39mTypeError\u001b[39;00m:\n\u001b[1;32m----> <a href='vscode-notebook-cell:/a%3A/Documentos/Launch-X/Primera%20Misi%C3%B3n/Curso_Intro_Python_Katas/Kata_Modulo_10.ipynb#ch0000016?line=8'>9</a>\u001b[0m         \u001b[39mraise\u001b[39;00m \u001b[39mTypeError\u001b[39;00m(\u001b[39mf\u001b[39m\u001b[39m\"\u001b[39m\u001b[39mTodos los argumentos deben ser enteros (int), error con el valor: \u001b[39m\u001b[39m'\u001b[39m\u001b[39m{\u001b[39;00margumento\u001b[39m}\u001b[39;00m\u001b[39m'\u001b[39m\u001b[39m\"\u001b[39m)\n\u001b[0;32m     <a href='vscode-notebook-cell:/a%3A/Documentos/Launch-X/Primera%20Misi%C3%B3n/Curso_Intro_Python_Katas/Kata_Modulo_10.ipynb#ch0000016?line=10'>11</a>\u001b[0m consumo_dia \u001b[39m=\u001b[39m astronautas \u001b[39m*\u001b[39m \u001b[39m11\u001b[39m\n\u001b[0;32m     <a href='vscode-notebook-cell:/a%3A/Documentos/Launch-X/Primera%20Misi%C3%B3n/Curso_Intro_Python_Katas/Kata_Modulo_10.ipynb#ch0000016?line=11'>12</a>\u001b[0m consumo_ttl \u001b[39m=\u001b[39m consumo_dia \u001b[39m*\u001b[39m dias_restantes\n",
      "\u001b[1;31mTypeError\u001b[0m: Todos los argumentos deben ser enteros (int), error con el valor: '5'"
     ]
    }
   ],
   "source": [
    "#Reescribiendo la función con el soporte para TypeError.\n",
    "def agua_restante(astronautas, agua_restante, dias_restantes):\n",
    "    \n",
    "    for argumento in [astronautas,agua_restante,dias_restantes]:\n",
    "        try:\n",
    "            #Si se ejecuta correctamente el argumento si es un entero\n",
    "            argumento / 10 \n",
    "        except TypeError:\n",
    "            raise TypeError(f\"Todos los argumentos deben ser enteros (int), error con el valor: '{argumento}'\")\n",
    "    \n",
    "    consumo_dia = astronautas * 11\n",
    "    consumo_ttl = consumo_dia * dias_restantes\n",
    "    agua_total_restante =agua_restante - consumo_ttl\n",
    "    \n",
    "    if agua_total_restante < 0:\n",
    "        raise RuntimeError(f\"No hay suficiente agua para {astronautas} astronautas luego de {dias_restantes} días!\")\n",
    "    return f\"Después de {dias_restantes} dias, el agua restante es: {agua_total_restante} litros\" \n",
    "\n",
    "#Segunda prueba con tipos no admitidos\n",
    "agua_restante('5','100',None)"
   ]
  }
 ],
 "metadata": {
  "interpreter": {
   "hash": "3b22382fa247ca67c1899e6820d327c3c9c88c13ae6d1e8a777ddbd3dce2a0d1"
  },
  "kernelspec": {
   "display_name": "Python 3.8.10 64-bit",
   "language": "python",
   "name": "python3"
  },
  "language_info": {
   "codemirror_mode": {
    "name": "ipython",
    "version": 3
   },
   "file_extension": ".py",
   "mimetype": "text/x-python",
   "name": "python",
   "nbconvert_exporter": "python",
   "pygments_lexer": "ipython3",
   "version": "3.8.10"
  },
  "orig_nbformat": 4
 },
 "nbformat": 4,
 "nbformat_minor": 2
}
