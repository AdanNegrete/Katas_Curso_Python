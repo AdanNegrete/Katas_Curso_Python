{
 "cells": [
  {
   "cell_type": "markdown",
   "metadata": {},
   "source": [
    "# Ejercicio 1: Creación de diccionarios de Python\n",
    "## Ejercicio: Crear y modificar un diccionario de Python\n",
    "\n",
    "Para este ejercicio, crearás un diccionario que almacene información sobre el planeta Marte."
   ]
  },
  {
   "cell_type": "code",
   "execution_count": 1,
   "metadata": {},
   "outputs": [
    {
     "name": "stdout",
     "output_type": "stream",
     "text": [
      "Planeta: Marte \n",
      "Lunas: 2\n"
     ]
    }
   ],
   "source": [
    "#Creando diccionario \n",
    "planet={\n",
    "    'name':'Marte',\n",
    "    'moons':2\n",
    "}\n",
    "\n",
    "#Imprimiendo los datos\n",
    "print(f\"Planeta: {planet.get('name')} \\nLunas: {planet.get('moons')}\")\n"
   ]
  },
  {
   "cell_type": "code",
   "execution_count": 2,
   "metadata": {},
   "outputs": [
    {
     "name": "stdout",
     "output_type": "stream",
     "text": [
      "Planeta: Marte \n",
      "Lunas: 2\n",
      "Circunferencia Polar: 6752\n",
      "Circunferencia Ecuatorial: 6792\n"
     ]
    }
   ],
   "source": [
    "#Modificando la estructura inicial\n",
    "planet['circunferencia (km)']={\n",
    "    'polar':6752,\n",
    "    'ecuatorial':6792\n",
    "}\n",
    "\n",
    "#Imprimiendo los datos del planeta\n",
    "print(f\"\"\"Planeta: {planet.get('name')} \n",
    "Lunas: {planet.get('moons')}\n",
    "Circunferencia Polar: {planet['circunferencia (km)']['polar']}\n",
    "Circunferencia Ecuatorial: {planet['circunferencia (km)']['ecuatorial']}\"\"\")"
   ]
  },
  {
   "cell_type": "markdown",
   "metadata": {},
   "source": [
    "# Ejercicio 2: Programación dinámica con diccionarios\n",
    "## Ejercicio: Cálculo de valores\n",
    "\n",
    "En este escenario, calcularás tanto el número total de lunas en el sistema solar como el número promedio de lunas que tiene un planeta."
   ]
  },
  {
   "cell_type": "code",
   "execution_count": 5,
   "metadata": {},
   "outputs": [
    {
     "name": "stdout",
     "output_type": "stream",
     "text": [
      "Lunas en el sistema solar: 214\n",
      "Promedio de lunas/planeta= 17.833333333333332\n"
     ]
    }
   ],
   "source": [
    "#Nueva Estructura\n",
    "planetas_lunas={\n",
    "    'mercurio':0,\n",
    "    'venus':0,\n",
    "    'tierra':1,\n",
    "    'marte':2,\n",
    "    'júpiter':79,\n",
    "    'saturno':82,\n",
    "    'urano':27,\n",
    "    'neptuno':14,\n",
    "    'pluton':5,\n",
    "    'haumea':2,\n",
    "    'makemake':1,\n",
    "    'eris':1\n",
    "}\n",
    "\n",
    "#Obteniendo los valores y el tamaño de la estructura\n",
    "lunas=planetas_lunas.values()\n",
    "planetas=len(planetas_lunas.keys())\n",
    "\n",
    "#Calculando las lunas totales y su promedio por planeta\n",
    "total_lunas=0\n",
    "\n",
    "for moon in lunas:\n",
    "    total_lunas=total_lunas+moon\n",
    "\n",
    "promedio=total_lunas/planetas\n",
    "\n",
    "print(f\"Lunas en el sistema solar: {total_lunas}\\nPromedio de lunas/planeta= {promedio}\")"
   ]
  }
 ],
 "metadata": {
  "interpreter": {
   "hash": "3b22382fa247ca67c1899e6820d327c3c9c88c13ae6d1e8a777ddbd3dce2a0d1"
  },
  "kernelspec": {
   "display_name": "Python 3.8.10 64-bit",
   "language": "python",
   "name": "python3"
  },
  "language_info": {
   "codemirror_mode": {
    "name": "ipython",
    "version": 3
   },
   "file_extension": ".py",
   "mimetype": "text/x-python",
   "name": "python",
   "nbconvert_exporter": "python",
   "pygments_lexer": "ipython3",
   "version": "3.8.10"
  },
  "orig_nbformat": 4
 },
 "nbformat": 4,
 "nbformat_minor": 2
}
